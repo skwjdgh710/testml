{
  "cells": [
    {
      "cell_type": "markdown",
      "source": [
        "# Variables"
      ],
      "metadata": {
        "nteract": {
          "transient": {
            "deleting": false
          }
        }
      }
    },
    {
      "cell_type": "code",
      "source": [
        "# Service Principle Variables\n",
        "appid = \"App ID\"\n",
        "secretid = \"Secret\"\n",
        "tenant = \"Tenant ID\"\n",
        "\n",
        "# Azure Service Variables\n",
        "subscription_id=\"Subscription ID\"\n",
        "resource_group_name = \"Resoure Group Name\"\n",
        "\n",
        "# Azure ML Variables\n",
        "ml_workspace = \"Workspace Name\"\n",
        "\n",
        "# Azure IoT Variables\n",
        "iot_hub_name=\"IoT Hub Name\"\n",
        "iot_device_id=\"IoT Device ID\"\n",
        "module_name = \"Module Name\"\n",
        "\n",
        "# Azure Key Vault Variables\n",
        "keyVaultName = \"Key Vault Name\"\n",
        "KVUri = \"Key Vault URI\"\n",
        "Secret_Name = \"Secret Name\""
      ],
      "outputs": [],
      "execution_count": null,
      "metadata": {
        "jupyter": {
          "source_hidden": false,
          "outputs_hidden": false
        },
        "nteract": {
          "transient": {
            "deleting": false
          }
        }
      }
    },
    {
      "cell_type": "markdown",
      "source": [
        "_**(Option) Use Key Valut**_"
      ],
      "metadata": {
        "nteract": {
          "transient": {
            "deleting": false
          }
        }
      }
    },
    {
      "cell_type": "code",
      "source": [
        "# !pip install azure-identity\n",
        "# !pip install azure-keyvault-secrets\n",
        "\n",
        "# from azure.identity import ClientSecretCredential\n",
        "# from azure.mgmt.compute import ComputeManagementClient\n",
        "# from azure.keyvault.secrets import SecretClient\n",
        "# from azure.identity import DefaultAzureCredential\n",
        "\n",
        "# credential = ClientSecretCredential(\n",
        "#     tenant_id=tenant,\n",
        "#     client_id=appid,\n",
        "#     client_secret=secretid\n",
        "# )\n",
        "\n",
        "# client = SecretClient(vault_url=KVUri, credential=credential)\n",
        "# secretName = Secret_Name\n",
        "# retrieved_secret = client.get_secret(secretName)\n",
        "\n",
        "# print(f\"Your secret is '{retrieved_secret.value}'.\")"
      ],
      "outputs": [],
      "execution_count": null,
      "metadata": {
        "jupyter": {
          "source_hidden": false,
          "outputs_hidden": false
        },
        "nteract": {
          "transient": {
            "deleting": false
          }
        }
      }
    },
    {
      "cell_type": "markdown",
      "source": [
        "# Service Principal Authentication"
      ],
      "metadata": {
        "nteract": {
          "transient": {
            "deleting": false
          }
        }
      }
    },
    {
      "cell_type": "code",
      "source": [
        "from azureml.core.authentication import ServicePrincipalAuthentication\n",
        "\n",
        "sp = ServicePrincipalAuthentication(tenant_id=tenant,\n",
        "                                    service_principal_id=appid, \n",
        "                                    service_principal_password=secretid) \n",
        "                                    "
      ],
      "outputs": [],
      "execution_count": null,
      "metadata": {
        "jupyter": {
          "source_hidden": false,
          "outputs_hidden": false
        },
        "nteract": {
          "transient": {
            "deleting": false
          }
        }
      }
    },
    {
      "cell_type": "markdown",
      "source": [
        "# Get Azure ML Workspace"
      ],
      "metadata": {
        "nteract": {
          "transient": {
            "deleting": false
          }
        }
      }
    },
    {
      "cell_type": "code",
      "source": [
        "from azureml.core import Workspace\n",
        "\n",
        "ws = Workspace.get(name=ml_workspace,\n",
        "                   auth=sp,\n",
        "                   subscription_id=subscription_id,\n",
        "                   resource_group=resource_group_name)"
      ],
      "outputs": [],
      "execution_count": null,
      "metadata": {
        "jupyter": {
          "source_hidden": false,
          "outputs_hidden": false
        },
        "nteract": {
          "transient": {
            "deleting": false
          }
        }
      }
    },
    {
      "cell_type": "markdown",
      "source": [
        "# Inferencing Image Configuration"
      ],
      "metadata": {
        "nteract": {
          "transient": {
            "deleting": false
          }
        }
      }
    },
    {
      "cell_type": "code",
      "source": [
        "from azureml.core.conda_dependencies import CondaDependencies \n",
        "\n",
        "execution_file=\"iot_score.py\"\n",
        "tags = {'area': \"iot\", 'type': \"classification\"}\n",
        "description = \"IOT Edge anomaly detection demo\"\n",
        "\n",
        "myenv = CondaDependencies.create(conda_packages=['pandas', 'scikit-learn', 'numpy'])\n",
        "\n",
        "with open(\"myenv.yml\",\"w\") as f:\n",
        "    f.write(myenv.serialize_to_string())\n",
        "\n",
        "from azureml.core.image import Image, ContainerImage\n",
        "\n",
        "image_config = ContainerImage.image_configuration(runtime= \"python\",\n",
        "                                 execution_script=execution_file,\n",
        "                                 conda_file=\"myenv.yml\",\n",
        "                                 tags = tags,\n",
        "                                 description = description)"
      ],
      "outputs": [],
      "execution_count": null,
      "metadata": {
        "jupyter": {
          "source_hidden": false,
          "outputs_hidden": false
        },
        "nteract": {
          "transient": {
            "deleting": false
          }
        }
      }
    },
    {
      "cell_type": "markdown",
      "source": [
        "# Create Image on Container Registry"
      ],
      "metadata": {
        "nteract": {
          "transient": {
            "deleting": false
          }
        }
      }
    },
    {
      "cell_type": "code",
      "source": [
        "from azureml.core.model import Model\n",
        "\n",
        "model_name = 'model.pkl'\n",
        "image_name = \"tempanomalydetection\"\n",
        "\n",
        "model = Model(ws, model_name)\n",
        "image = Image.create(name = image_name,\n",
        "                     models = [model],\n",
        "                     image_config = image_config, \n",
        "                     workspace = ws)\n",
        "\n",
        "image.wait_for_creation(show_output = False)"
      ],
      "outputs": [],
      "execution_count": null,
      "metadata": {
        "jupyter": {
          "source_hidden": false,
          "outputs_hidden": false
        },
        "nteract": {
          "transient": {
            "deleting": false
          }
        }
      }
    },
    {
      "cell_type": "markdown",
      "source": [
        "# Get Image Information from Container Registry"
      ],
      "metadata": {
        "nteract": {
          "transient": {
            "deleting": false
          }
        }
      }
    },
    {
      "cell_type": "code",
      "source": [
        "container_reg = ws.get_details()[\"containerRegistry\"]\n",
        "reg_name=container_reg.split(\"/\")[-1]\n",
        "container_url = \"\\\"\" + image.image_location + \"\\\",\"\n",
        "subscription_id = ws.subscription_id\n",
        "print('{}'.format(image.image_location))\n",
        "print('{}'.format(reg_name))\n",
        "print('{}'.format(subscription_id))\n",
        "from azure.mgmt.containerregistry import ContainerRegistryManagementClient\n",
        "from azure.mgmt import containerregistry\n",
        "client = ContainerRegistryManagementClient(sp,subscription_id)\n",
        "result= client.registries.list_credentials(resource_group_name, reg_name)\n",
        "username = result.username\n",
        "password = result.passwords[0].value"
      ],
      "outputs": [],
      "execution_count": null,
      "metadata": {
        "jupyter": {
          "source_hidden": false,
          "outputs_hidden": false
        },
        "nteract": {
          "transient": {
            "deleting": false
          }
        }
      }
    },
    {
      "cell_type": "markdown",
      "source": [
        "# Make .json with Deployment Template"
      ],
      "metadata": {
        "nteract": {
          "transient": {
            "deleting": false
          }
        }
      }
    },
    {
      "cell_type": "code",
      "source": [
        "file = open('iot-deployment-template.json')\n",
        "contents = file.read()\n",
        "contents = contents.replace('__MODULE_NAME', module_name)\n",
        "contents = contents.replace('__REGISTRY_NAME', reg_name)\n",
        "contents = contents.replace('__REGISTRY_USER_NAME', username)\n",
        "contents = contents.replace('__REGISTRY_PASSWORD', password)\n",
        "contents = contents.replace('__REGISTRY_IMAGE_LOCATION', image.image_location)\n",
        "with open('./deployment.json', 'wt', encoding='utf-8') as output_file:\n",
        "    output_file.write(contents)"
      ],
      "outputs": [],
      "execution_count": null,
      "metadata": {
        "jupyter": {
          "source_hidden": false,
          "outputs_hidden": false
        },
        "nteract": {
          "transient": {
            "deleting": false
          }
        }
      }
    },
    {
      "cell_type": "markdown",
      "source": [
        "# Register Image to the IoT Hub"
      ],
      "metadata": {
        "nteract": {
          "transient": {
            "deleting": false
          }
        }
      }
    },
    {
      "cell_type": "code",
      "source": [
        "!pip install azure-cli\n",
        "!pip install azure-iot-hub\n",
        "!az extension add --name azure-iot\n",
        "\n",
        "!az login --service-principal --username $appid --password $secretid --tenant $tenant\n",
        "!az iot edge set-modules --device-id $iot_device_id --hub-name $iot_hub_name --content deployment.json"
      ],
      "outputs": [],
      "execution_count": null,
      "metadata": {
        "jupyter": {
          "source_hidden": false,
          "outputs_hidden": false
        },
        "nteract": {
          "transient": {
            "deleting": false
          }
        }
      }
    }
  ],
  "metadata": {
    "kernelspec": {
      "name": "python38-azureml",
      "language": "python",
      "display_name": "Python 3.8 - AzureML"
    },
    "language_info": {
      "name": "python",
      "version": "3.8.5",
      "mimetype": "text/x-python",
      "codemirror_mode": {
        "name": "ipython",
        "version": 3
      },
      "pygments_lexer": "ipython3",
      "nbconvert_exporter": "python",
      "file_extension": ".py"
    },
    "nteract": {
      "version": "nteract-front-end@1.0.0"
    },
    "kernel_info": {
      "name": "python38-azureml"
    }
  },
  "nbformat": 4,
  "nbformat_minor": 0
}