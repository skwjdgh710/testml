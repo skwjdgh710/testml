{
  "cells": [
    {
      "cell_type": "markdown",
      "source": [
        "# Get Workspace"
      ],
      "metadata": {
        "nteract": {
          "transient": {
            "deleting": false
          }
        }
      }
    },
    {
      "cell_type": "code",
      "source": [
        "import os\n",
        "import azureml.core\n",
        "from azureml.core import Workspace, Experiment, Datastore, Dataset\n",
        "from azureml.widgets import RunDetails\n",
        "\n",
        "# Get Azure ML Workspace\n",
        "ws = Workspace.from_config()\n"
      ],
      "outputs": [],
      "execution_count": null,
      "metadata": {}
    },
    {
      "cell_type": "markdown",
      "source": [
        "# Create/Get Compute Target"
      ],
      "metadata": {
        "nteract": {
          "transient": {
            "deleting": false
          }
        }
      }
    },
    {
      "cell_type": "code",
      "source": [
        "from azureml.core.compute import ComputeTarget, AmlCompute\n",
        "\n",
        "compute_name = \"aml-compute\"\n",
        "vm_size = \"STANDARD_DS12_V2\"\n",
        "\n",
        "if compute_name in ws.compute_targets:\n",
        "    compute_target = ws.compute_targets[compute_name]\n",
        "    if compute_target and type(compute_target) is AmlCompute:\n",
        "        print('Found compute target: ' + compute_name)\n",
        "else:\n",
        "    print('Creating a new compute target...')\n",
        "    provisioning_config = AmlCompute.provisioning_configuration(vm_size=vm_size,  # STANDARD_NC6 is GPU-enabled\n",
        "                                                                min_nodes=0,\n",
        "                                                                max_nodes=1)\n",
        "    # create the compute target\n",
        "    compute_target = ComputeTarget.create(\n",
        "        ws, compute_name, provisioning_config)\n",
        "\n",
        "    # Can poll for a minimum number of nodes and for a specific timeout.\n",
        "    # If no min node count is provided it will use the scale settings for the cluster\n",
        "    compute_target.wait_for_completion(\n",
        "        show_output=True, min_node_count=None, timeout_in_minutes=20)\n",
        "\n",
        "    # For a more detailed view of current cluster status, use the 'status' property\n",
        "    print(compute_target.status.serialize())"
      ],
      "outputs": [],
      "execution_count": null,
      "metadata": {
        "jupyter": {
          "source_hidden": false,
          "outputs_hidden": false
        },
        "nteract": {
          "transient": {
            "deleting": false
          }
        }
      }
    },
    {
      "cell_type": "markdown",
      "source": [
        "# Setup Train Environment "
      ],
      "metadata": {
        "nteract": {
          "transient": {
            "deleting": false
          }
        }
      }
    },
    {
      "cell_type": "code",
      "source": [
        "from azureml.core.runconfig import DEFAULT_CPU_IMAGE\n",
        "from azureml.core.runconfig import DockerConfiguration\n",
        "from azureml.core.runconfig import RunConfiguration\n",
        "from azureml.core.conda_dependencies import CondaDependencies\n",
        "from azureml.core import Environment \n",
        "from azureml.core.runconfig import DockerConfiguration\n",
        "\n",
        "# create a new runconfig object\n",
        "aml_run_config = RunConfiguration()\n",
        "\n",
        "# enable Docker \n",
        "training_docker_config = DockerConfiguration(use_docker=True)\n",
        "aml_run_config.docker = training_docker_config\n",
        "\n",
        "# set Docker base image to the default CPU-based image\n",
        "aml_run_config.environment.docker.base_image = DEFAULT_CPU_IMAGE\n",
        "\n",
        "# use conda_dependencies.yml to create a conda environment in the Docker image for execution\n",
        "aml_run_config.environment.python.user_managed_dependencies = False\n",
        "\n",
        "# specify CondaDependencies obj\n",
        "aml_run_config.environment.python.conda_dependencies = CondaDependencies.create(conda_packages=['pandas','scikit-learn'],pip_packages=['azureml-sdk'])\n"
      ],
      "outputs": [],
      "execution_count": null,
      "metadata": {
        "jupyter": {
          "source_hidden": false,
          "outputs_hidden": false
        },
        "nteract": {
          "transient": {
            "deleting": false
          }
        }
      }
    },
    {
      "cell_type": "markdown",
      "source": [
        "# Setup Train Pipeline"
      ],
      "metadata": {
        "nteract": {
          "transient": {
            "deleting": false
          }
        }
      }
    },
    {
      "cell_type": "code",
      "source": [
        "from azureml.pipeline.steps import PythonScriptStep\n",
        "train_source_dir = \"./train\"\n",
        "train_entry_point = \"train.py\" \n",
        "   \n",
        "train_step = PythonScriptStep(\n",
        "    name=\"Train Model\",\n",
        "    script_name=train_entry_point,\n",
        "    source_directory=train_source_dir,\n",
        "    compute_target=compute_target,\n",
        "    runconfig=aml_run_config,\n",
        "    allow_reuse=False\n",
        ")"
      ],
      "outputs": [],
      "execution_count": null,
      "metadata": {
        "jupyter": {
          "source_hidden": false,
          "outputs_hidden": false
        },
        "nteract": {
          "transient": {
            "deleting": false
          }
        }
      }
    },
    {
      "cell_type": "markdown",
      "source": [
        "# Setup Deployment Environment"
      ],
      "metadata": {
        "nteract": {
          "transient": {
            "deleting": false
          }
        }
      }
    },
    {
      "cell_type": "code",
      "source": [
        "from azureml.core.conda_dependencies import CondaDependencies\n",
        "from azureml.core.runconfig import DockerConfiguration\n",
        "\n",
        "conda_run_config = RunConfiguration(framework=\"python\")\n",
        "conda_run_config.docker = DockerConfiguration(use_docker=True)\n",
        "conda_run_config.environment.docker.base_image = DEFAULT_CPU_IMAGE\n",
        "\n",
        "cd = CondaDependencies.create(pip_packages=['azureml-sdk','azureml-widgets','azureml-contrib-notebook','ipython','notebook','ipython_genutils','Jinja2<=3.0.0'])\n",
        "conda_run_config.environment.python.conda_dependencies = cd"
      ],
      "outputs": [],
      "execution_count": null,
      "metadata": {
        "jupyter": {
          "source_hidden": false,
          "outputs_hidden": false
        },
        "nteract": {
          "transient": {
            "deleting": false
          }
        }
      }
    },
    {
      "cell_type": "markdown",
      "source": [
        "# Setup Deployment Pipeline"
      ],
      "metadata": {
        "nteract": {
          "transient": {
            "deleting": false
          }
        }
      }
    },
    {
      "cell_type": "code",
      "source": [
        "from azureml.contrib.notebook import NotebookRunConfig, AzureMLNotebookHandler\n",
        "from azureml.contrib.notebook import NotebookRunnerStep\n",
        "\n",
        "iotdeployemnt_source_dir = \"./deployment\"\n",
        "iotdeployemnt_entry_point = \"deployment.ipynb\"\n",
        "\n",
        "handler = AzureMLNotebookHandler(timeout=600, progress_bar=False, log_output=True)\n",
        "\n",
        "cfg = NotebookRunConfig(source_directory=iotdeployemnt_source_dir, notebook=iotdeployemnt_entry_point,\n",
        "                        handler = handler,\n",
        "                        parameters={},\n",
        "                        run_config=conda_run_config)\n",
        "\n",
        "notebook_runner_step = NotebookRunnerStep(name=\"iothub_deployment_step\",\n",
        "                                          notebook_run_config=cfg,\n",
        "                                          allow_reuse=True,\n",
        "                                          compute_target=compute_target)#,\n",
        "                                          #output_notebook_pipeline_data_name=\"notebook_result\")"
      ],
      "outputs": [],
      "execution_count": null,
      "metadata": {
        "jupyter": {
          "source_hidden": false,
          "outputs_hidden": false
        },
        "nteract": {
          "transient": {
            "deleting": false
          }
        }
      }
    },
    {
      "cell_type": "markdown",
      "source": [
        "# Create Pipeline"
      ],
      "metadata": {
        "nteract": {
          "transient": {
            "deleting": false
          }
        }
      }
    },
    {
      "cell_type": "code",
      "source": [
        "from azureml.pipeline.core import Pipeline, StepSequence\n",
        "\n",
        "step_sequence = StepSequence(steps=[train_step,notebook_runner_step])\n",
        "pipeline1 = Pipeline(workspace=ws, steps=step_sequence)\n",
        "pipeline1.validate()"
      ],
      "outputs": [],
      "execution_count": null,
      "metadata": {
        "jupyter": {
          "source_hidden": false,
          "outputs_hidden": false
        },
        "nteract": {
          "transient": {
            "deleting": false
          }
        }
      }
    },
    {
      "cell_type": "markdown",
      "source": [
        "# Run Pipeline"
      ],
      "metadata": {
        "nteract": {
          "transient": {
            "deleting": false
          }
        }
      }
    },
    {
      "cell_type": "code",
      "source": [
        "pipeline_run1 = Experiment(ws, 'anomaly-detection').submit(pipeline1, regenerate_outputs=False)\n",
        "print(\"Pipeline is submitted for execution\")"
      ],
      "outputs": [],
      "execution_count": null,
      "metadata": {
        "jupyter": {
          "source_hidden": false,
          "outputs_hidden": false
        },
        "nteract": {
          "transient": {
            "deleting": false
          }
        }
      }
    }
  ],
  "metadata": {
    "kernelspec": {
      "name": "python38-azureml",
      "language": "python",
      "display_name": "Python 3.8 - AzureML"
    },
    "language_info": {
      "name": "python",
      "version": "3.8.5",
      "mimetype": "text/x-python",
      "codemirror_mode": {
        "name": "ipython",
        "version": 3
      },
      "pygments_lexer": "ipython3",
      "nbconvert_exporter": "python",
      "file_extension": ".py"
    },
    "nteract": {
      "version": "nteract-front-end@1.0.0"
    },
    "kernel_info": {
      "name": "python38-azureml"
    }
  },
  "nbformat": 4,
  "nbformat_minor": 0
}